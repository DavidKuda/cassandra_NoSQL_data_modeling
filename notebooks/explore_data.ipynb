{
 "cells": [
  {
   "cell_type": "code",
   "execution_count": null,
   "id": "e2240cf3",
   "metadata": {},
   "outputs": [],
   "source": [
    "import pandas as pd"
   ]
  },
  {
   "cell_type": "code",
   "execution_count": null,
   "id": "0d6d54f5",
   "metadata": {},
   "outputs": [],
   "source": [
    "original_data_sample = pd.read_csv('../data/event_data/2018-11-01-events.csv')"
   ]
  },
  {
   "cell_type": "code",
   "execution_count": null,
   "id": "a2e22568",
   "metadata": {},
   "outputs": [],
   "source": [
    "original_data_sample.dtypes"
   ]
  },
  {
   "cell_type": "code",
   "execution_count": null,
   "id": "9085ce7f",
   "metadata": {},
   "outputs": [],
   "source": [
    "df = pd.read_csv('../data/event_datafile_new.csv')"
   ]
  },
  {
   "cell_type": "code",
   "execution_count": null,
   "id": "24775f82",
   "metadata": {},
   "outputs": [],
   "source": [
    "df"
   ]
  },
  {
   "cell_type": "code",
   "execution_count": null,
   "id": "458764e3",
   "metadata": {},
   "outputs": [],
   "source": [
    "df.dtypes"
   ]
  },
  {
   "cell_type": "code",
   "execution_count": null,
   "id": "495a16a9",
   "metadata": {},
   "outputs": [],
   "source": []
  }
 ],
 "metadata": {
  "kernelspec": {
   "display_name": "Python 3",
   "language": "python",
   "name": "python3"
  },
  "language_info": {
   "codemirror_mode": {
    "name": "ipython",
    "version": 3
   },
   "file_extension": ".py",
   "mimetype": "text/x-python",
   "name": "python",
   "nbconvert_exporter": "python",
   "pygments_lexer": "ipython3",
   "version": "3.9.2"
  }
 },
 "nbformat": 4,
 "nbformat_minor": 5
}
