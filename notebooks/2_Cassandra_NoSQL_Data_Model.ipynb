{
 "cells": [
  {
   "cell_type": "markdown",
   "metadata": {},
   "source": [
    "#### Import Python packages "
   ]
  },
  {
   "cell_type": "code",
   "execution_count": null,
   "metadata": {},
   "outputs": [],
   "source": [
    "# Import Python packages \n",
    "import pandas as pd\n",
    "import numpy as np\n",
    "import cassandra"
   ]
  },
  {
   "cell_type": "markdown",
   "metadata": {},
   "source": [
    "# Part II. Cassandra Coding. \n",
    "\n",
    "In part I we have prepared the original source data. Now we are ready to work with the CSV file titled `event_datafile_new.csv`, located in `data/`.  The `event_datafile_new.csv` contains the following columns: \n",
    "\n",
    "- artist \n",
    "- firstName of user\n",
    "- gender of user\n",
    "- item number in session\n",
    "- last name of user\n",
    "- length of the song\n",
    "- level (paid or free song)\n",
    "- location of the user\n",
    "- sessionId\n",
    "- song title\n",
    "- userId\n",
    "\n",
    "The image below is a screenshot of  the denormalized data in `event_datafile_new.csv`:\n",
    "\n",
    "<img src=\"images/image_event_datafile_new.jpg\">"
   ]
  },
  {
   "cell_type": "markdown",
   "metadata": {},
   "source": [
    "### Load data to pandas.DataFrame\n",
    "\n",
    "We will insert our data into the cassandra tables using pandas."
   ]
  },
  {
   "cell_type": "code",
   "execution_count": null,
   "metadata": {},
   "outputs": [],
   "source": [
    "# Read original data from csv to pandas.DataFrame\n",
    "file = 'event_datafile_new.csv'\n",
    "filepath = '../data/' + file\n",
    "df = pd.read_csv(filepath)"
   ]
  },
  {
   "cell_type": "markdown",
   "metadata": {},
   "source": [
    "### Data Model\n",
    "\n",
    "We will create three tables: Sessions, Users and Songs. In NoSQL / Cassandra it is common practice to create one table per query. Every table is created differently, especially in regards to \"primary key\" and \"clustering column\". Here are the details for every table:\n",
    "\n",
    "1. __Sessions:__ Give me the artist, song title and song's length in the music app history that was heard during  sessionId = 338, and itemInSession  = 4\n",
    "2. __Users:__ Give me only the following: name of artist, song (sorted by itemInSession) and user (first and last name) for userid = 10, sessionid = 182\n",
    "3. __Songs:__ Give me every user name (first and last) in my music app history who listened to the song 'All Hands Against His Own'\n",
    "\n",
    "\n"
   ]
  },
  {
   "cell_type": "markdown",
   "metadata": {},
   "source": [
    "### Create a Cluster"
   ]
  },
  {
   "cell_type": "code",
   "execution_count": 2,
   "metadata": {},
   "outputs": [],
   "source": [
    "# This should make a connection to a Cassandra instance on your local machine (127.0.0.1)\n",
    "from cassandra.cluster import Cluster\n",
    "cluster = Cluster()\n",
    "\n",
    "# To establish connection and begin executing queries, you need a session\n",
    "session = cluster.connect()"
   ]
  },
  {
   "cell_type": "markdown",
   "metadata": {},
   "source": [
    "### Create a Keyspace"
   ]
  },
  {
   "cell_type": "code",
   "execution_count": null,
   "metadata": {},
   "outputs": [],
   "source": [
    "try:\n",
    "    session.execute(\"\"\"\n",
    "    CREATE KEYSPACE IF NOT EXISTS sparkify_db \n",
    "    WITH REPLICATION = \n",
    "    { 'class' : 'SimpleStrategy', 'replication_factor' : 1 }\"\"\"\n",
    ")\n",
    "\n",
    "except Exception as e:\n",
    "    print(e)"
   ]
  },
  {
   "cell_type": "markdown",
   "metadata": {},
   "source": [
    "### Set Keyspace"
   ]
  },
  {
   "cell_type": "code",
   "execution_count": null,
   "metadata": {},
   "outputs": [],
   "source": [
    "try:\n",
    "    session.set_keyspace('sparkify_db')\n",
    "except Exception as e:\n",
    "    print(e)"
   ]
  },
  {
   "cell_type": "code",
   "execution_count": null,
   "metadata": {},
   "outputs": [],
   "source": [
    "# Read original data from csv to pandas.DataFrame\n",
    "file = 'event_datafile_new.csv'\n",
    "filepath = '../data/' + file\n",
    "df = pd.read_csv(filepath)"
   ]
  },
  {
   "cell_type": "markdown",
   "metadata": {},
   "source": [
    "### Create Tables «Sessions», «Users» & «Songs»"
   ]
  },
  {
   "cell_type": "markdown",
   "metadata": {},
   "source": [
    "#### 1. Create Tables"
   ]
  },
  {
   "cell_type": "code",
   "execution_count": null,
   "metadata": {},
   "outputs": [],
   "source": [
    "session.execute(\"\"\"\n",
    "CREATE TABLE IF NOT EXISTS sessions\n",
    "(\n",
    "  artist text, \n",
    "  song text, \n",
    "  length decimal, \n",
    "  session_id int, \n",
    "  item_in_session int,\n",
    "  PRIMARY KEY (session_id, item_in_session)\n",
    ")\n",
    "\"\"\")"
   ]
  },
  {
   "cell_type": "code",
   "execution_count": null,
   "metadata": {},
   "outputs": [],
   "source": [
    "session.execute(\"\"\"\n",
    "CREATE TABLE IF NOT EXISTS users\n",
    "(\n",
    "  artist text, \n",
    "  song text, \n",
    "  user_id int,\n",
    "  user text,\n",
    "  session_id int,\n",
    "  item_in_session int,\n",
    "  PRIMARY KEY ((user_id, session_id), item_in_session)\n",
    ")\n",
    "\"\"\")"
   ]
  },
  {
   "cell_type": "code",
   "execution_count": null,
   "metadata": {},
   "outputs": [],
   "source": [
    "session.execute(\"\"\"\n",
    "CREATE TABLE IF NOT EXISTS songs\n",
    "(\n",
    "  artist text, \n",
    "  song text, \n",
    "  user_id int,\n",
    "  user text,\n",
    "  PRIMARY KEY ((song), artist, user_id)\n",
    ")\n",
    "\"\"\")"
   ]
  },
  {
   "cell_type": "markdown",
   "metadata": {},
   "source": [
    "#### 2. Insert Data Into The Tables"
   ]
  },
  {
   "cell_type": "code",
   "execution_count": null,
   "metadata": {},
   "outputs": [],
   "source": [
    "sessions = df[['artist', 'song', 'length', 'sessionId', 'itemInSession']]\n",
    "for row in sessions.iterrows():\n",
    "    query = \"\"\"\n",
    "    INSERT INTO sessions (artist, song, length, session_id, item_in_session)\n",
    "    VALUES (%s, %s, %s, %s, %s)\"\"\"\n",
    "    data_as_tuple = tuple(row[1].values)\n",
    "    session.execute(query, data_as_tuple)"
   ]
  },
  {
   "cell_type": "code",
   "execution_count": null,
   "metadata": {},
   "outputs": [],
   "source": [
    "users = df.loc[:, ['artist', 'song', 'firstName', 'lastName', 'userId', 'sessionId', 'itemInSession']]\n",
    "users['user'] = users['firstName'] + ' ' + users['lastName']\n",
    "users = users.drop(columns=['firstName', 'lastName'])\n",
    "\n",
    "query = \"\"\"\n",
    "INSERT INTO users (artist, song, user_id, session_id, item_in_session, user)\n",
    "VALUES (%s, %s, %s, %s, %s, %s)\"\"\"\n",
    "\n",
    "for row in users.iterrows():\n",
    "    data_as_tuple = tuple(row[1].values)\n",
    "    session.execute(query, data_as_tuple)"
   ]
  },
  {
   "cell_type": "code",
   "execution_count": null,
   "metadata": {},
   "outputs": [],
   "source": [
    "songs = df.loc[:, ['artist', 'song', 'firstName', 'lastName', 'userId']]\n",
    "songs['user'] = songs['firstName'] + ' ' + songs['lastName']\n",
    "songs = songs.drop(columns=['firstName', 'lastName'])\n",
    "\n",
    "query = \"\"\"\n",
    "INSERT INTO songs (artist, song, user_id, user)\n",
    "VALUES (%s, %s, %s, %s)\"\"\"\n",
    "\n",
    "for row in songs.iterrows():\n",
    "    data_as_tuple = tuple(row[1].values)\n",
    "    session.execute(query, data_as_tuple)"
   ]
  },
  {
   "cell_type": "markdown",
   "metadata": {},
   "source": [
    "#### 3. Select Data From The Tables"
   ]
  },
  {
   "cell_type": "code",
   "execution_count": null,
   "metadata": {},
   "outputs": [],
   "source": [
    "query = \"\"\"\n",
    "SELECT artist, song, length\n",
    "FROM sessions \n",
    "WHERE \n",
    "  session_id=338\n",
    "  AND item_in_session=4\n",
    "\"\"\"\n",
    "try:\n",
    "    rows = session.execute(query)\n",
    "except Exception as e:\n",
    "    print(e)\n",
    "else:\n",
    "    for row in rows:\n",
    "        print (row.artist, row.song, row.length)       "
   ]
  },
  {
   "cell_type": "code",
   "execution_count": null,
   "metadata": {},
   "outputs": [],
   "source": [
    "query = \"\"\"\n",
    "SELECT artist, song, user\n",
    "FROM users \n",
    "WHERE \n",
    "  user_id = 10\n",
    "  AND session_id = 182\n",
    "\"\"\"\n",
    "try:\n",
    "    rows = session.execute(query)\n",
    "except Exception as e:\n",
    "    print(e)\n",
    "else:   \n",
    "    for row in rows:\n",
    "        print (row.artist, row.song, row.user)       "
   ]
  },
  {
   "cell_type": "code",
   "execution_count": null,
   "metadata": {},
   "outputs": [],
   "source": [
    "query = \"\"\"\n",
    "SELECT user\n",
    "FROM songs \n",
    "WHERE \n",
    "  song = 'All Hands Against His Own'\n",
    "\"\"\"\n",
    "try:\n",
    "    rows = session.execute(query)\n",
    "except Exception as e:\n",
    "    print(e)\n",
    "else:   \n",
    "    for row in rows:\n",
    "        print (row.user)       "
   ]
  },
  {
   "cell_type": "markdown",
   "metadata": {},
   "source": [
    "### Drop the tables before closing out the sessions"
   ]
  },
  {
   "cell_type": "code",
   "execution_count": null,
   "metadata": {},
   "outputs": [],
   "source": [
    "query = \"DROP TABLE sessions\"\n",
    "try:\n",
    "    session.execute(query)\n",
    "except Exception as e:\n",
    "    print(e)"
   ]
  },
  {
   "cell_type": "code",
   "execution_count": null,
   "metadata": {},
   "outputs": [],
   "source": [
    "query = \"DROP TABLE users\"\n",
    "try:\n",
    "    session.execute(query)\n",
    "except Exception as e:\n",
    "    print(e)"
   ]
  },
  {
   "cell_type": "code",
   "execution_count": null,
   "metadata": {},
   "outputs": [],
   "source": [
    "query = \"DROP TABLE songs\"\n",
    "try:\n",
    "    session.execute(query)\n",
    "except Exception as e:\n",
    "    print(e)"
   ]
  },
  {
   "cell_type": "markdown",
   "metadata": {},
   "source": [
    "### Close the session and cluster connection¶"
   ]
  },
  {
   "cell_type": "code",
   "execution_count": null,
   "metadata": {},
   "outputs": [],
   "source": [
    "session.shutdown()\n",
    "cluster.shutdown()"
   ]
  }
 ],
 "metadata": {
  "kernelspec": {
   "display_name": "Python 3",
   "language": "python",
   "name": "python3"
  },
  "language_info": {
   "codemirror_mode": {
    "name": "ipython",
    "version": 3
   },
   "file_extension": ".py",
   "mimetype": "text/x-python",
   "name": "python",
   "nbconvert_exporter": "python",
   "pygments_lexer": "ipython3",
   "version": "3.9.2"
  }
 },
 "nbformat": 4,
 "nbformat_minor": 4
}
