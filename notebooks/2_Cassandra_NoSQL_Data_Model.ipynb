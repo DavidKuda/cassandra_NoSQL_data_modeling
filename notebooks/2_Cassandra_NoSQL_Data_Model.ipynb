{
 "cells": [
  {
   "cell_type": "markdown",
   "metadata": {},
   "source": [
    "#### Import Python packages "
   ]
  },
  {
   "cell_type": "code",
   "execution_count": null,
   "metadata": {},
   "outputs": [],
   "source": [
    "# Import Python packages \n",
    "import pandas as pd\n",
    "import cassandra"
   ]
  },
  {
   "cell_type": "markdown",
   "metadata": {},
   "source": [
    "# Part II. Python / Cassandra Coding. \n",
    "\n",
    "In part I we have prepared the original source data. Now we are ready to work with the CSV file titled `event_datafile_new.csv`, located in `data/`.  The `event_datafile_new.csv` contains the following columns: \n",
    "\n",
    "- artist \n",
    "- firstName of user\n",
    "- gender of user\n",
    "- item number in session\n",
    "- last name of user\n",
    "- length of the song\n",
    "- level (paid or free song)\n",
    "- location of the user\n",
    "- sessionId\n",
    "- song title\n",
    "- userId\n",
    "\n",
    "The image below is a screenshot of  the denormalized data in `event_datafile_new.csv`:\n",
    "\n",
    "<img src=\"images/image_event_datafile_new.jpg\">"
   ]
  },
  {
   "cell_type": "markdown",
   "metadata": {},
   "source": [
    "### Load data to pandas.DataFrame\n",
    "\n",
    "We will insert our data into the cassandra tables using pandas."
   ]
  },
  {
   "cell_type": "code",
   "execution_count": null,
   "metadata": {},
   "outputs": [],
   "source": [
    "# Read original data from csv to pandas.DataFrame\n",
    "file = 'event_datafile_new.csv'\n",
    "filepath = '../data/' + file\n",
    "df = pd.read_csv(filepath)"
   ]
  },
  {
   "cell_type": "markdown",
   "metadata": {},
   "source": [
    "### Data Model\n",
    "\n",
    "In part 1, we have already reduced the total amount of data by reducing the columns. See the following image that shows the table and columns that we use for our data model.\n",
    "\n",
    "![original data](../documentation/images/cassandra_1.png)\n",
    "\n",
    "Based on the original data, we will create three tables: \n",
    "\n",
    "1. `songs_by_sessions`\n",
    "2. `songs_by_user_id`\n",
    "3. `users_by_songs`\n",
    "\n",
    "The next image shows the three tables, their columns and their respective data types. The first column in bold represents the partition key of that table. Further bold columns are either composite keys or clustering keys. \n",
    "\n",
    "![cassandra tables](../documentation/images/cassandra_2.png)\n",
    "\n",
    "In NoSQL / Cassandra it is common practice to create one table per query. I will provide one example query for each table as described here:\n",
    "\n",
    "1. __songs_by_sessions:__ Give me the artist, song title and song's length in the music app history that was heard during  sessionId = 338, and itemInSession  = 4\n",
    "2. __songs_by_user_id:__ Give me only the following: name of artist, song (sorted by itemInSession) and user (first and last name) for userid = 10, sessionid = 182\n",
    "3. __users_by_songs:__ Give me every user name (first and last) in my music app history who listened to the song 'All Hands Against His Own'\n",
    "\n",
    "\n"
   ]
  },
  {
   "cell_type": "markdown",
   "metadata": {},
   "source": [
    "### Create a Cluster"
   ]
  },
  {
   "cell_type": "code",
   "execution_count": null,
   "metadata": {},
   "outputs": [],
   "source": [
    "# Connect to a Cassandra instance on your local machine (127.0.0.1:9042)\n",
    "from cassandra.cluster import Cluster\n",
    "cluster = Cluster()\n",
    "\n",
    "# Create a session to establish connection and begin executing queries\n",
    "session = cluster.connect()"
   ]
  },
  {
   "cell_type": "markdown",
   "metadata": {},
   "source": [
    "### Create a Keyspace"
   ]
  },
  {
   "cell_type": "code",
   "execution_count": null,
   "metadata": {},
   "outputs": [],
   "source": [
    "try:\n",
    "    session.execute(\"\"\"\n",
    "    CREATE KEYSPACE IF NOT EXISTS sparkify_db \n",
    "    WITH REPLICATION = \n",
    "    { 'class' : 'SimpleStrategy', 'replication_factor' : 1 }\"\"\"\n",
    ")\n",
    "\n",
    "except Exception as e:\n",
    "    print(e)"
   ]
  },
  {
   "cell_type": "markdown",
   "metadata": {},
   "source": [
    "### Set Keyspace"
   ]
  },
  {
   "cell_type": "code",
   "execution_count": null,
   "metadata": {},
   "outputs": [],
   "source": [
    "try:\n",
    "    session.set_keyspace('sparkify_db')\n",
    "except Exception as e:\n",
    "    print(e)"
   ]
  },
  {
   "cell_type": "markdown",
   "metadata": {},
   "source": [
    "### Create The Three Tables"
   ]
  },
  {
   "cell_type": "code",
   "execution_count": null,
   "metadata": {},
   "outputs": [],
   "source": [
    "session.execute(\"\"\"\n",
    "CREATE TABLE IF NOT EXISTS songs_by_sessions\n",
    "(\n",
    "  session_id int,\n",
    "  item_in_session int,\n",
    "  artist text, \n",
    "  song text, \n",
    "  length decimal,  \n",
    "  PRIMARY KEY (session_id, item_in_session)\n",
    ")\n",
    "\"\"\")"
   ]
  },
  {
   "cell_type": "code",
   "execution_count": null,
   "metadata": {},
   "outputs": [],
   "source": [
    "session.execute(\"\"\"\n",
    "CREATE TABLE IF NOT EXISTS songs_by_user_id\n",
    "(\n",
    "  user_id int,\n",
    "  session_id int,\n",
    "  item_in_session int,\n",
    "  artist text, \n",
    "  song text, \n",
    "  user text,\n",
    "  PRIMARY KEY ((user_id, session_id), item_in_session)\n",
    ")\n",
    "\"\"\")"
   ]
  },
  {
   "cell_type": "code",
   "execution_count": null,
   "metadata": {},
   "outputs": [],
   "source": [
    "session.execute(\"\"\"\n",
    "CREATE TABLE IF NOT EXISTS users_by_songs\n",
    "(\n",
    "  song text, \n",
    "  user_id int,\n",
    "  artist text, \n",
    "  user text,\n",
    "  PRIMARY KEY (song, user_id)\n",
    ")\n",
    "\"\"\")"
   ]
  },
  {
   "cell_type": "markdown",
   "metadata": {},
   "source": [
    "### Insert Data Into The Tables"
   ]
  },
  {
   "cell_type": "code",
   "execution_count": null,
   "metadata": {
    "tags": []
   },
   "outputs": [],
   "source": [
    "sessions = df[['artist', 'song', 'length', 'sessionId', 'itemInSession']]\n",
    "for row in sessions.iterrows():\n",
    "    query = \"\"\"\n",
    "    INSERT INTO songs_by_sessions (artist, song, length, session_id, item_in_session)\n",
    "    VALUES (%s, %s, %s, %s, %s)\"\"\"\n",
    "    data_as_tuple = tuple(row[1].values)\n",
    "    session.execute(query, data_as_tuple)"
   ]
  },
  {
   "cell_type": "code",
   "execution_count": null,
   "metadata": {
    "tags": []
   },
   "outputs": [],
   "source": [
    "users = df.loc[:, ['artist', 'song', 'firstName', 'lastName', 'userId', 'sessionId', 'itemInSession']]\n",
    "users['user'] = users['firstName'] + ' ' + users['lastName']\n",
    "users = users.drop(columns=['firstName', 'lastName'])\n",
    "\n",
    "query = \"\"\"\n",
    "INSERT INTO songs_by_user_id (artist, song, user_id, session_id, item_in_session, user)\n",
    "VALUES (%s, %s, %s, %s, %s, %s)\"\"\"\n",
    "\n",
    "for row in users.iterrows():\n",
    "    data_as_tuple = tuple(row[1].values)\n",
    "    session.execute(query, data_as_tuple)"
   ]
  },
  {
   "cell_type": "code",
   "execution_count": null,
   "metadata": {},
   "outputs": [],
   "source": [
    "songs = df.loc[:, ['artist', 'song', 'firstName', 'lastName', 'userId']]\n",
    "songs['user'] = songs['firstName'] + ' ' + songs['lastName']\n",
    "songs = songs.drop(columns=['firstName', 'lastName'])\n",
    "\n",
    "query = \"\"\"\n",
    "INSERT INTO users_by_songs (artist, song, user_id, user)\n",
    "VALUES (%s, %s, %s, %s)\"\"\"\n",
    "\n",
    "for row in songs.iterrows():\n",
    "    data_as_tuple = tuple(row[1].values)\n",
    "    session.execute(query, data_as_tuple)"
   ]
  },
  {
   "cell_type": "markdown",
   "metadata": {},
   "source": [
    "### Select Data From The Tables"
   ]
  },
  {
   "cell_type": "markdown",
   "metadata": {},
   "source": [
    "There are three queries that I provide here. For every table there is one query. "
   ]
  },
  {
   "cell_type": "markdown",
   "metadata": {},
   "source": [
    "The first query connects the sessions with the songs that were played. As an example, I want to know more about the session with the id 338 and the item 4 of that session: What artist, song and length was that item?"
   ]
  },
  {
   "cell_type": "code",
   "execution_count": null,
   "metadata": {},
   "outputs": [],
   "source": [
    "query = \"\"\"\n",
    "SELECT artist, song, length\n",
    "FROM songs_by_sessions \n",
    "WHERE \n",
    "  session_id=338\n",
    "  AND item_in_session=4\n",
    "\"\"\"\n",
    "try:\n",
    "    rows = session.execute(query)\n",
    "except Exception as e:\n",
    "    print(e)\n",
    "else:\n",
    "    for row in rows:\n",
    "        print (row.artist, row.song, row.length)       "
   ]
  },
  {
   "cell_type": "markdown",
   "metadata": {},
   "source": [
    "With the next query, I want to know to which songs the user with the id 10 has listened to during the session 182."
   ]
  },
  {
   "cell_type": "code",
   "execution_count": null,
   "metadata": {},
   "outputs": [],
   "source": [
    "query = \"\"\"\n",
    "SELECT artist, song, user\n",
    "FROM songs_by_user_id \n",
    "WHERE \n",
    "  user_id = 10\n",
    "  AND session_id = 182\n",
    "\"\"\"\n",
    "try:\n",
    "    rows = session.execute(query)\n",
    "except Exception as e:\n",
    "    print(e)\n",
    "else:   \n",
    "    for row in rows:\n",
    "        print (row.artist, row.song, row.user)       "
   ]
  },
  {
   "cell_type": "markdown",
   "metadata": {},
   "source": [
    "Finally I want to know which users have all listened to the song \"All Hands Against His Own\"."
   ]
  },
  {
   "cell_type": "code",
   "execution_count": null,
   "metadata": {},
   "outputs": [],
   "source": [
    "query = \"\"\"\n",
    "SELECT user\n",
    "FROM users_by_songs\n",
    "WHERE \n",
    "  song = 'All Hands Against His Own'\n",
    "\"\"\"\n",
    "try:\n",
    "    rows = session.execute(query)\n",
    "except Exception as e:\n",
    "    print(e)\n",
    "else:   \n",
    "    for row in rows:\n",
    "        print (row.user)       "
   ]
  },
  {
   "cell_type": "markdown",
   "metadata": {},
   "source": [
    "That was it! All queries were successful."
   ]
  },
  {
   "cell_type": "markdown",
   "metadata": {},
   "source": [
    "### Drop the tables before closing out the sessions"
   ]
  },
  {
   "cell_type": "markdown",
   "metadata": {},
   "source": [
    "In order to reset everything, we can drop the tables here:"
   ]
  },
  {
   "cell_type": "code",
   "execution_count": null,
   "metadata": {},
   "outputs": [],
   "source": [
    "query = \"DROP TABLE sessions\"\n",
    "try:\n",
    "    session.execute(query)\n",
    "except Exception as e:\n",
    "    print(e)"
   ]
  },
  {
   "cell_type": "code",
   "execution_count": null,
   "metadata": {},
   "outputs": [],
   "source": [
    "query = \"DROP TABLE users\"\n",
    "try:\n",
    "    session.execute(query)\n",
    "except Exception as e:\n",
    "    print(e)"
   ]
  },
  {
   "cell_type": "code",
   "execution_count": null,
   "metadata": {},
   "outputs": [],
   "source": [
    "query = \"DROP TABLE songs\"\n",
    "try:\n",
    "    session.execute(query)\n",
    "except Exception as e:\n",
    "    print(e)"
   ]
  },
  {
   "cell_type": "markdown",
   "metadata": {},
   "source": [
    "### Close the session and cluster connection¶"
   ]
  },
  {
   "cell_type": "code",
   "execution_count": null,
   "metadata": {},
   "outputs": [],
   "source": [
    "session.shutdown()\n",
    "cluster.shutdown()"
   ]
  }
 ],
 "metadata": {
  "kernelspec": {
   "display_name": "Python 3",
   "language": "python",
   "name": "python3"
  },
  "language_info": {
   "codemirror_mode": {
    "name": "ipython",
    "version": 3
   },
   "file_extension": ".py",
   "mimetype": "text/x-python",
   "name": "python",
   "nbconvert_exporter": "python",
   "pygments_lexer": "ipython3",
   "version": "3.9.2"
  }
 },
 "nbformat": 4,
 "nbformat_minor": 4
}
